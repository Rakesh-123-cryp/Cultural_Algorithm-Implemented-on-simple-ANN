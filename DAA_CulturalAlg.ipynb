{
 "cells": [
  {
   "cell_type": "code",
   "execution_count": null,
   "id": "442b8373",
   "metadata": {},
   "outputs": [],
   "source": [
    "import pandas as pd\n",
    "import numpy as np\n",
    "import tensorflow.keras as k"
   ]
  },
  {
   "cell_type": "code",
   "execution_count": null,
   "id": "09a6d79c",
   "metadata": {},
   "outputs": [],
   "source": [
    "import random as r\n",
    "r.seed(2)"
   ]
  },
  {
   "cell_type": "code",
   "execution_count": null,
   "id": "9d1fb6ee",
   "metadata": {},
   "outputs": [],
   "source": [
    "import pandas as pd\n",
    "data=pd.read_csv(\"Bank_Personal_Loan_Modelling.csv\")\n",
    "data.drop([\"ZIP Code\",\"ID\",\"CD Account\",\"Securities Account\",\"Personal Loan\"],axis=1,inplace=True)"
   ]
  },
  {
   "cell_type": "raw",
   "id": "a9105f84",
   "metadata": {},
   "source": [
    "class Cultural:\n",
    "    def __init__(self,pop_size):\n",
    "        self.population = np.random.choice(-100,100,size=(pop_size))\n",
    "        \n",
    "    def belief_space(self,normalize_range):\n",
    "        self.normalize = normalize_range\n",
    "        \n",
    "    def acceptance_function(self,prob,offspring):\n",
    "        if (r.random<prob):\n",
    "            choice = r.choice(self.population)\n",
    "            index = np.where(self.population == choice)[0]\n",
    "            self.population[index] = offspring\n",
    "        else:\n",
    "            None\n",
    "\n",
    "    def crossover(self,cross_prob:float,num:int,parent1:float,parent2:float)->float:\n",
    "        if(r.random()<cross_prob):\n",
    "            if parent1>parent2:\n",
    "                choice=r.uniform(parent2 - 0.5*(abs(parent1-parent2)),parent1 + 0.5*(abs(parent1-parent2)))\n",
    "                return choice\n",
    "            else:\n",
    "                choice=r.uniform(parent1 - 0.5*(abs(parent1-parent2)),parent2 + 0.5*(abs(parent1-parent2)))\n",
    "                return choice\n",
    "        else:\n",
    "            return None\n",
    "\n",
    "    def mutation(self,offspring:float,mutate_prob:float)->float:\n",
    "        if(r.random()<mutate_prob):\n",
    "            offset = np.random.normal(0,1,1)\n",
    "            return offspring + offset\n",
    "        else:\n",
    "            return offspring\n",
    "    \n",
    "    def replace(layer):\n",
    "        \n",
    "    def fit(layer)"
   ]
  },
  {
   "cell_type": "code",
   "execution_count": null,
   "id": "6b4b2233",
   "metadata": {},
   "outputs": [],
   "source": [
    "model = k.models.Sequential()\n",
    "model.add(InputLayer(input_shape = ()))"
   ]
  },
  {
   "cell_type": "code",
   "execution_count": null,
   "id": "2de6d9f3",
   "metadata": {},
   "outputs": [],
   "source": []
  },
  {
   "cell_type": "code",
   "execution_count": null,
   "id": "a7d08221",
   "metadata": {},
   "outputs": [],
   "source": [
    "import random\n",
    "import numpy as np\n",
    "from sklearn.datasets import make_classification\n",
    "from sklearn.model_selection import train_test_split\n",
    "from sklearn.neural_network import MLPClassifier\n",
    "\n",
    "input_size = 10\n",
    "X, y = data.iloc[:,:-1].values,data.iloc[:,-1].values\n",
    "\n",
    "X_train, X_test, y_train, y_test = train_test_split(X, y, test_size=0.3, random_state=42)\n",
    "\n",
    "hidden_layer_sizes = [(50,), (100,), (50,50), (100,100)]\n",
    "activation_functions = ['logistic', 'tanh', 'relu']\n",
    "learning_rates = [0.001, 0.01, 0.1]\n",
    "pop_size = 10\n",
    "num_iterations = 50\n",
    "\n",
    "population = []\n",
    "for i in range(pop_size):\n",
    "    hidden_layer_size = random.choice(hidden_layer_sizes)\n",
    "    activation_function = random.choice(activation_functions)\n",
    "    learning_rate = random.choice(learning_rates)\n",
    "    population.append((hidden_layer_size, activation_function, learning_rate))\n",
    "\n",
    "def fitness(params):\n",
    "    hidden_layer_sizes, activation_function, learning_rate = params\n",
    "    clf = MLPClassifier(hidden_layer_sizes=hidden_layer_sizes, activation=activation_function, learning_rate_init=learning_rate)\n",
    "    clf.fit(X_train, y_train)\n",
    "    score = clf.score(X_test, y_test)\n",
    "    return score\n",
    "\n",
    "best_params = None\n",
    "best_fitness = -1\n",
    "culture = []\n",
    "\n",
    "for i in range(num_iterations):\n",
    "    population = sorted(population, key=lambda x: fitness(x), reverse=True)\n",
    "    \n",
    "    if fitness(population[0]) > best_fitness:\n",
    "        best_params = population[0]\n",
    "        best_fitness = fitness(population[0])\n",
    "    \n",
    "    culture.append(population[0])\n",
    "    \n",
    "    # Generate a new population by recombining the culture and mutation\n",
    "    new_population = []\n",
    "    for j in range(pop_size):\n",
    "        if j < int(0.8*pop_size):\n",
    "            new_params = random.choice(culture)\n",
    "            hidden_layer_size = new_params[0]\n",
    "            activation_function = new_params[1]\n",
    "            learning_rate = new_params[2]\n",
    "        else: \n",
    "            hidden_layer_size = random.choice(hidden_layer_sizes)\n",
    "            activation_function = random.choice(activation_functions)\n",
    "            learning_rate = random.choice(learning_rates)\n",
    "        new_population.append((hidden_layer_size, activation_function, learning_rate))\n",
    "    \n",
    "    population = new_population\n",
    "    \n",
    "print(\"Best fitness = \",best_fitnesst)"
   ]
  },
  {
   "cell_type": "code",
   "execution_count": null,
   "id": "78b1cdc7",
   "metadata": {},
   "outputs": [],
   "source": []
  }
 ],
 "metadata": {
  "kernelspec": {
   "display_name": "Python 3 (ipykernel)",
   "language": "python",
   "name": "python3"
  },
  "language_info": {
   "codemirror_mode": {
    "name": "ipython",
    "version": 3
   },
   "file_extension": ".py",
   "mimetype": "text/x-python",
   "name": "python",
   "nbconvert_exporter": "python",
   "pygments_lexer": "ipython3",
   "version": "3.10.5"
  }
 },
 "nbformat": 4,
 "nbformat_minor": 5
}
